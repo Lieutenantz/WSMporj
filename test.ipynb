{
 "cells": [
  {
   "cell_type": "code",
   "execution_count": 12,
   "metadata": {},
   "outputs": [],
   "source": [
    "import pandas as pd\n",
    "import torch\n",
    "from torch import tensor\n",
    "import numpy as np\n",
    "import re\n",
    "import utils\n",
    "import pymongo\n",
    "from pymongo.collection import Collection\n",
    "import os\n",
    "import shutil\n",
    "from datetime import datetime"
   ]
  },
  {
   "attachments": {},
   "cell_type": "markdown",
   "metadata": {},
   "source": [
    "该ipynb文件可以结合作业的image_dataset,datas_v2.csv和utils文件, 生成以图片的md5为文件名的数据集和以及mongodb数据库wsm"
   ]
  },
  {
   "cell_type": "code",
   "execution_count": 22,
   "metadata": {},
   "outputs": [],
   "source": [
    "def str_2_feature_numpy(feature_str:str) -> \"np.ndarray\":\n",
    "    feature_str = re.sub('\\s+',',',feature_str)\n",
    "    feature_str = re.sub('\\[,','[',feature_str)\n",
    "    return np.array(eval(feature_str),dtype=np.float32)"
   ]
  },
  {
   "cell_type": "code",
   "execution_count": 23,
   "metadata": {},
   "outputs": [],
   "source": [
    "def import_single_image(image_path: str, feature: np.ndarray,\n",
    "                        config: dict, mongo_collection: Collection, copy=False):\n",
    "    \"\"\"\n",
    "        一张新图片地址, 和由模型生成的feature存入指定的mongo_collection中\n",
    "    \"\"\"\n",
    "    image_type = utils.get_file_type(image_path)\n",
    "    if image_type is None:\n",
    "        print(\"skip file:\", image_path)\n",
    "        return\n",
    "\n",
    "    image_size = utils.get_image_size(image_path)\n",
    "\n",
    "    feature = feature.astype(config['storage-type']) # float32\n",
    "\n",
    "    if copy:\n",
    "        md5hash = utils.calc_md5(image_path)\n",
    "        new_basename = md5hash + '.' + image_type # new name\n",
    "        new_full_path = utils.get_full_path(config['import-image-base'], new_basename)\n",
    "        if os.path.isfile(new_full_path):\n",
    "            print(\"duplicate file:\", image_path)\n",
    "            return\n",
    "        \n",
    "        shutil.copy2(image_path, new_full_path)\n",
    "        stat = os.stat(new_full_path)\n",
    "    else:\n",
    "        stat = os.stat(image_path)\n",
    "        new_full_path = image_path\n",
    "\n",
    "    image_mtime = datetime.fromtimestamp(stat.st_mtime)\n",
    "    image_datestr = image_mtime.strftime(\"%Y-%m-%dT%H:%M:%S.%fZ\")\n",
    "\n",
    "    # save to mongodb\n",
    "    document = {\n",
    "        'filename': new_full_path, # md5 name\n",
    "        'extension': image_type,\n",
    "        'height': image_size[1],\n",
    "        'width': image_size[0],\n",
    "        'filesize': stat.st_size,\n",
    "        'date': image_datestr,\n",
    "        'feature': feature.tobytes() # feature 存储的是byte格式\n",
    "    }\n",
    "\n",
    "    x = mongo_collection.insert_one(document)\n",
    "    return x"
   ]
  },
  {
   "cell_type": "code",
   "execution_count": 4,
   "metadata": {},
   "outputs": [],
   "source": [
    "df = pd.read_csv(\"datas_v2.csv\")"
   ]
  },
  {
   "cell_type": "code",
   "execution_count": 5,
   "metadata": {},
   "outputs": [],
   "source": [
    "client = pymongo.MongoClient()"
   ]
  },
  {
   "cell_type": "code",
   "execution_count": 6,
   "metadata": {},
   "outputs": [],
   "source": [
    "images_collection = client.wsm.images"
   ]
  },
  {
   "cell_type": "code",
   "execution_count": 7,
   "metadata": {},
   "outputs": [],
   "source": [
    "image_raw_set_path = \"../image_dataset/\"\n",
    "def path_feature_generator(df):\n",
    "    base_path = image_raw_set_path\n",
    "    for i in df.iloc:\n",
    "        yield base_path+i[0], str_2_feature_numpy(i[1])"
   ]
  },
  {
   "cell_type": "code",
   "execution_count": 8,
   "metadata": {},
   "outputs": [],
   "source": [
    "config = utils.get_config()"
   ]
  },
  {
   "cell_type": "code",
   "execution_count": 24,
   "metadata": {},
   "outputs": [],
   "source": [
    "pf_generator = path_feature_generator(df)"
   ]
  },
  {
   "cell_type": "code",
   "execution_count": 25,
   "metadata": {},
   "outputs": [
    {
     "name": "stdout",
     "output_type": "stream",
     "text": [
      "duplicate file: ../image_dataset/000001x2.png\n",
      "duplicate file: ../image_dataset/000002x2.png\n"
     ]
    }
   ],
   "source": [
    "for p,f in pf_generator:\n",
    "    import_single_image(p,f,config,images_collection,True)"
   ]
  },
  {
   "cell_type": "code",
   "execution_count": 26,
   "metadata": {},
   "outputs": [
    {
     "data": {
      "text/plain": [
       "3077"
      ]
     },
     "execution_count": 26,
     "metadata": {},
     "output_type": "execute_result"
    }
   ],
   "source": [
    "images_collection.count_documents({})"
   ]
  },
  {
   "attachments": {},
   "cell_type": "markdown",
   "metadata": {},
   "source": [
    "导出数据库的集合 wsm.images"
   ]
  },
  {
   "cell_type": "code",
   "execution_count": 28,
   "metadata": {},
   "outputs": [
    {
     "name": "stdout",
     "output_type": "stream",
     "text": [
      "2023-05-28T14:12:23.943+0800\twriting wsm.images to imagesdb.dump/wsm/images.bson\n",
      "2023-05-28T14:12:23.951+0800\tdone dumping wsm.images (3077 documents)\n"
     ]
    }
   ],
   "source": [
    "!mongodump --host localhost:27017 --db wsm --collection images --out imagesdb.dump\n",
    "# !开头可以直接在ipynb中执行shell命令"
   ]
  },
  {
   "attachments": {},
   "cell_type": "markdown",
   "metadata": {},
   "source": [
    "如果要将数据库加载到某个mongodb数据库, 使用下面的命令"
   ]
  },
  {
   "cell_type": "code",
   "execution_count": null,
   "metadata": {},
   "outputs": [],
   "source": [
    "!mongorestore --host <hostname>:<port> --db wsm <directory or file to restore>"
   ]
  }
 ],
 "metadata": {
  "kernelspec": {
   "display_name": "pytorch_env",
   "language": "python",
   "name": "python3"
  },
  "language_info": {
   "codemirror_mode": {
    "name": "ipython",
    "version": 3
   },
   "file_extension": ".py",
   "mimetype": "text/x-python",
   "name": "python",
   "nbconvert_exporter": "python",
   "pygments_lexer": "ipython3",
   "version": "3.9.16"
  },
  "orig_nbformat": 4
 },
 "nbformat": 4,
 "nbformat_minor": 2
}
